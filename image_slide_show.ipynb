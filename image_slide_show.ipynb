import cv2 as c
import numpy as np
import os
img_name_list = os.listdir(r"C:\Users\91891\Desktop\image processing using python\images")
path = "C:\\Users\\91891\\Desktop\\image processing using python\\images"
for name in img_name_list:
    img_name = path + "\\" +name
    img = c.imread(img_name)
    re_img = c.resize(img, (500, 500))
    c.imshow("slidshow",re_img)
    c.waitKey(0)
c.destroyAllWindows()
